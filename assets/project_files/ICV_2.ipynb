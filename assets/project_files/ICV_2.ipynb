{
 "cells": [
  {
   "cell_type": "markdown",
   "id": "c7de195a",
   "metadata": {},
   "source": [
    "# Histogramas de Gradientes Orientados (HOG): uma implementação prática do algoritmo aplicada ao dataset Fashion MNIST\n",
    "\n",
    "## Introdução à Computação Visual"
   ]
  },
  {
   "cell_type": "markdown",
   "id": "fdba13b8",
   "metadata": {},
   "source": [
    "### André Luiz Moreira Dutra\n",
    "### Marcos Vinicius Caldeira Pacheco"
   ]
  },
  {
   "cell_type": "markdown",
   "id": "028a2350",
   "metadata": {},
   "source": [
    "## Introdução\n",
    "\n",
    "O problema de detecção de objetos é um dos principais objetos de estudo da computação visual, sendo aplicável a múltiplas áreas, como a identificação facial, por exemplo. Neste contexto, faremos neste trabalho uma implementação própria do algoritmo HOG (Histogramas de Gradientes Orientados) de extração de features de imagens. Em seguida, aplicaremos o algoritmo implementado ao dataset Fashion MNIST para detecção de peças de vestuário, e visualizaremos a disposição espacial das instâncias geradas com os vetores de descritores extraídos."
   ]
  },
  {
   "cell_type": "markdown",
   "id": "957944c0",
   "metadata": {},
   "source": [
    "## O algoritmo HOG\n",
    "\n",
    "O algoritmo consiste em, após normalizar a imagem, aplicar filtros sobel para extrair as derivadas horizontais e verticais da imagem, e a partir delas extrair a matriz ângulos das derivadas. Em seguida separamos a matriz em blocos quadrados menores e, para cada bloco, fazemos histogramas dos intervalos de ângulos mais frequentes. A sequência de valores de todos os histogramas extraídos de todos os blocos consitui o vetore de descritores HOG, que pode ser utilizado, por exemplo, para o desenvolvimento de um modelo supervisionado de identificação de imagens."
   ]
  },
  {
   "cell_type": "markdown",
   "id": "9459323a",
   "metadata": {},
   "source": [
    "## Implementação\n",
    "\n",
    "Para a execução correta do código, é necessário ter todas as seguintes bibliotecas instaladas:"
   ]
  },
  {
   "cell_type": "code",
   "execution_count": null,
   "id": "f18832ee",
   "metadata": {},
   "outputs": [],
   "source": [
    "import cv2\n",
    "import numpy as np\n",
    "from matplotlib import pyplot as plt\n",
    "from math import floor\n",
    "from skimage import filters\n",
    "from skimage.feature import hog\n",
    "import os\n",
    "from sklearn.manifold import TSNE\n",
    "import plotly.express as px\n",
    "import pandas as pd"
   ]
  },
  {
   "cell_type": "code",
   "execution_count": 2,
   "id": "5e8f19d3",
   "metadata": {},
   "outputs": [],
   "source": [
    "#Retorna um gradiente resultante de uma imagem. Se v==True, então é o gradiente vertical, caso contrário, é o gradiente horizontal.\n",
    "def getGradient(image, v=True):\n",
    "    if v:\n",
    "        grad = filters.sobel_v(image)\n",
    "    else:\n",
    "        grad = filters.sobel_h(image)\n",
    "    return grad"
   ]
  },
  {
   "cell_type": "code",
   "execution_count": null,
   "id": "08978bdd",
   "metadata": {},
   "outputs": [],
   "source": [
    "#A partir dos gradientes vertical e horizontal, retorna a magnitude\n",
    "def getMagnitude(h, v):\n",
    "    h2 = h**2\n",
    "    v2 = v**2\n",
    "    return (h2+v2)**0.5"
   ]
  },
  {
   "cell_type": "code",
   "execution_count": null,
   "id": "ea125fbd",
   "metadata": {},
   "outputs": [],
   "source": [
    "#A partir dos gradientes vertical e horizontal, retorna a orientação (ou matriz de direção)\n",
    "def getDirection(h, v):\n",
    "    direct = np.arctan(v/(h+0.00000001))\n",
    "    direct = np.rad2deg(direct)\n",
    "    return direct%180"
   ]
  },
  {
   "cell_type": "code",
   "execution_count": null,
   "id": "6fa1c61d",
   "metadata": {},
   "outputs": [],
   "source": [
    "#A partir dos parâmetros do HOG, retorna uma lista com as cordenadas iniciais de todos os blocos\n",
    "def getBlocks(image, w, h, s):\n",
    "    x = image.shape[0]\n",
    "    y = image.shape[1]\n",
    "    res = []\n",
    "    for i in np.arange(0, (y - h + 1), s):\n",
    "        for j in np.arange(0, (x - w + 1), s):\n",
    "            res.append((int(i/s), int(j/s)))\n",
    "    return res"
   ]
  },
  {
   "cell_type": "code",
   "execution_count": null,
   "id": "23945664",
   "metadata": {},
   "outputs": [],
   "source": [
    "#Retorna o histograma a partir da magnitude e direção, para determinados bins\n",
    "def getHist(mag, direct, bins):\n",
    "    hist = list(np.zeros(len(bins)))\n",
    "    delta = 180/len(bins)\n",
    "    for i in range(mag.shape[0]):\n",
    "        for j in range(mag.shape[1]):\n",
    "            k = floor(direct[i][j]/delta)\n",
    "            hist[k] += ((bins[k]+delta - direct[i][j])/delta)*mag[i][j]\n",
    "            if(k<8):\n",
    "                hist[k+1] += ((direct[i][j] - bins[k])/delta)*mag[i][j]\n",
    "    return hist"
   ]
  },
  {
   "cell_type": "code",
   "execution_count": 1,
   "id": "fad05747",
   "metadata": {},
   "outputs": [],
   "source": [
    "#Retorna o descritor de um bloco específico a partir dos histogramas\n",
    "def getDescritor(block, hists):\n",
    "    x = block[0]\n",
    "    y = block[1]\n",
    "    desc = np.array(list(hists[x][y]) + list(hists[x+1][y]) + list(hists[x][y+1]) + list(hists[x+1][y+1]))\n",
    "    k = (np.sum(desc**2))**0.5\n",
    "    return list(desc/(k+0.00000001))"
   ]
  },
  {
   "cell_type": "code",
   "execution_count": 3,
   "id": "b757d93f",
   "metadata": {},
   "outputs": [],
   "source": [
    "#É o HOG propriamente implementado, retorna a descrição da imagem de entrada e os histogramas obtidos\n",
    "def HOGImage(image, w, h, s):\n",
    "    horiz = getGradient(image, True)\n",
    "    verti = getGradient(image, False)\n",
    "\n",
    "    mag = getMagnitude(horiz, verti)\n",
    "    direct = getDirection(horiz,verti)%180\n",
    "    \n",
    "    bins = [0,20,40,60,80,100,120,140,160]\n",
    "    hists = np.zeros((floor(image.shape[0]/s),floor(image.shape[1]/s),len(bins)))\n",
    "    for i in range(hists.shape[0]):\n",
    "        for j in range(hists.shape[1]):\n",
    "            hists[i][j] = getHist(mag[i*s:(i+1)*s,j*s:(j+1)*s], direct[i*s:(i+1)*s,j*s:(j+1)*s], bins)\n",
    "    \n",
    "    blocks = getBlocks(image, w, h, s)\n",
    "    descs = []\n",
    "    for b in blocks:\n",
    "        descs += getDescritor(b, hists)\n",
    "    descs = np.around(descs, decimals=8)\n",
    "\n",
    "    return descs, hists"
   ]
  },
  {
   "cell_type": "markdown",
   "id": "69e4eb48",
   "metadata": {},
   "source": [
    "## Aplicando o algoritmo à base\n",
    "\n",
    "Vamos agora visualizar o algoritmo na base de dados selecionada. A base de dados escolhida, Fashion MNIST, consiste em uma amostra uma base de dados Fashion MNIST, contendo imagens de artigos de vestuário. Para cada uma das 10 categorias (bag, trouser, coat, dress, etc.) a amostra contém 100 exemplos."
   ]
  },
  {
   "cell_type": "code",
   "execution_count": null,
   "id": "4fe737b2",
   "metadata": {},
   "outputs": [],
   "source": []
  }
 ],
 "metadata": {
  "kernelspec": {
   "display_name": "jupyter",
   "language": "python",
   "name": "python3"
  },
  "language_info": {
   "codemirror_mode": {
    "name": "ipython",
    "version": 3
   },
   "file_extension": ".py",
   "mimetype": "text/x-python",
   "name": "python",
   "nbconvert_exporter": "python",
   "pygments_lexer": "ipython3",
   "version": "3.10.18"
  }
 },
 "nbformat": 4,
 "nbformat_minor": 5
}
