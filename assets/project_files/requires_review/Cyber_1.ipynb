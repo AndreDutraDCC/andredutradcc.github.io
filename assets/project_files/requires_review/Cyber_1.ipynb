{
 "cells": [
  {
   "cell_type": "code",
   "execution_count": 1,
   "id": "ba4bb864",
   "metadata": {
    "_cell_guid": "b1076dfc-b9ad-4769-8c92-a6c4dae69d19",
    "_uuid": "8f2839f25d086af736a60e9eeb907d3b93b6e0e5",
    "execution": {
     "iopub.execute_input": "2023-07-01T22:23:56.984026Z",
     "iopub.status.busy": "2023-07-01T22:23:56.982628Z",
     "iopub.status.idle": "2023-07-01T22:23:57.012694Z",
     "shell.execute_reply": "2023-07-01T22:23:57.013338Z",
     "shell.execute_reply.started": "2023-07-01T22:20:20.808836Z"
    },
    "papermill": {
     "duration": 0.075144,
     "end_time": "2023-07-01T22:23:57.013697",
     "exception": false,
     "start_time": "2023-07-01T22:23:56.938553",
     "status": "completed"
    },
    "tags": []
   },
   "outputs": [
    {
     "name": "stdout",
     "output_type": "stream",
     "text": [
      "/kaggle/input/exais-sms-spam-dataset/ExAIS_SMS.csv\n",
      "/kaggle/input/sms-spam-collection-dataset/spam.csv\n"
     ]
    }
   ],
   "source": [
    "#Estudo de caso 5 do curso de Introduação à Ciência de Dados Aplicada à Cibersegurança\n",
    "\n",
    "#Importando bibliotecas básicas\n",
    "\n",
    "import numpy as np # vetores e matrizes \n",
    "import pandas as pd # processamento dos dados, arquivo CSV I/O (e.g. pd.read_csv)\n",
    "\n",
    "# Input data files are available in the read-only \"../input/\" directory\n",
    "# For example, running this (by clicking run or pressing Shift+Enter) will list all files under the input directory\n",
    "\n",
    "import os\n",
    "for dirname, _, filenames in os.walk('/kaggle/input'):\n",
    "    for filename in filenames:\n",
    "        print(os.path.join(dirname, filename))\n",
    "\n",
    "# You can write up to 20GB to the current directory (/kaggle/working/) that gets preserved as output when you create a version using \"Save & Run All\" \n",
    "# You can also write temporary files to /kaggle/temp/, but they won't be saved outside of the current session"
   ]
  },
  {
   "cell_type": "code",
   "execution_count": 2,
   "id": "109e8ece",
   "metadata": {
    "execution": {
     "iopub.execute_input": "2023-07-01T22:23:57.085716Z",
     "iopub.status.busy": "2023-07-01T22:23:57.084935Z",
     "iopub.status.idle": "2023-07-01T22:23:57.140013Z",
     "shell.execute_reply": "2023-07-01T22:23:57.140615Z",
     "shell.execute_reply.started": "2023-07-01T22:20:20.837278Z"
    },
    "papermill": {
     "duration": 0.09317,
     "end_time": "2023-07-01T22:23:57.140819",
     "exception": false,
     "start_time": "2023-07-01T22:23:57.047649",
     "status": "completed"
    },
    "tags": []
   },
   "outputs": [
    {
     "data": {
      "text/html": [
       "<div>\n",
       "<style scoped>\n",
       "    .dataframe tbody tr th:only-of-type {\n",
       "        vertical-align: middle;\n",
       "    }\n",
       "\n",
       "    .dataframe tbody tr th {\n",
       "        vertical-align: top;\n",
       "    }\n",
       "\n",
       "    .dataframe thead th {\n",
       "        text-align: right;\n",
       "    }\n",
       "</style>\n",
       "<table border=\"1\" class=\"dataframe\">\n",
       "  <thead>\n",
       "    <tr style=\"text-align: right;\">\n",
       "      <th></th>\n",
       "      <th>label</th>\n",
       "      <th>message</th>\n",
       "    </tr>\n",
       "  </thead>\n",
       "  <tbody>\n",
       "    <tr>\n",
       "      <th>0</th>\n",
       "      <td>ham</td>\n",
       "      <td>Go until jurong point, crazy.. Available only ...</td>\n",
       "    </tr>\n",
       "    <tr>\n",
       "      <th>1</th>\n",
       "      <td>ham</td>\n",
       "      <td>Ok lar... Joking wif u oni...</td>\n",
       "    </tr>\n",
       "    <tr>\n",
       "      <th>2</th>\n",
       "      <td>spam</td>\n",
       "      <td>Free entry in 2 a wkly comp to win FA Cup fina...</td>\n",
       "    </tr>\n",
       "    <tr>\n",
       "      <th>3</th>\n",
       "      <td>ham</td>\n",
       "      <td>U dun say so early hor... U c already then say...</td>\n",
       "    </tr>\n",
       "    <tr>\n",
       "      <th>4</th>\n",
       "      <td>ham</td>\n",
       "      <td>Nah I don't think he goes to usf, he lives aro...</td>\n",
       "    </tr>\n",
       "  </tbody>\n",
       "</table>\n",
       "</div>"
      ],
      "text/plain": [
       "  label                                            message\n",
       "0   ham  Go until jurong point, crazy.. Available only ...\n",
       "1   ham                      Ok lar... Joking wif u oni...\n",
       "2  spam  Free entry in 2 a wkly comp to win FA Cup fina...\n",
       "3   ham  U dun say so early hor... U c already then say...\n",
       "4   ham  Nah I don't think he goes to usf, he lives aro..."
      ]
     },
     "execution_count": 2,
     "metadata": {},
     "output_type": "execute_result"
    }
   ],
   "source": [
    "# Importando a base de dados para o pandas\n",
    "\n",
    "sms = pd.read_csv(\"/kaggle/input/sms-spam-collection-dataset/spam.csv\", encoding = \"ISO-8859-1\", usecols=[0,1], skiprows=1,\n",
    "                  names=[\"label\", \"message\"])\n",
    "sms.head()"
   ]
  },
  {
   "cell_type": "code",
   "execution_count": 3,
   "id": "f58669f5",
   "metadata": {
    "execution": {
     "iopub.execute_input": "2023-07-01T22:23:57.211554Z",
     "iopub.status.busy": "2023-07-01T22:23:57.210763Z",
     "iopub.status.idle": "2023-07-01T22:23:57.226147Z",
     "shell.execute_reply": "2023-07-01T22:23:57.226829Z",
     "shell.execute_reply.started": "2023-07-01T22:20:20.874326Z"
    },
    "papermill": {
     "duration": 0.052423,
     "end_time": "2023-07-01T22:23:57.227051",
     "exception": false,
     "start_time": "2023-07-01T22:23:57.174628",
     "status": "completed"
    },
    "tags": []
   },
   "outputs": [],
   "source": [
    "sms.label = sms.label.map({\"ham\":0, \"spam\":1})"
   ]
  },
  {
   "cell_type": "code",
   "execution_count": 4,
   "id": "5924690e",
   "metadata": {
    "execution": {
     "iopub.execute_input": "2023-07-01T22:23:57.296406Z",
     "iopub.status.busy": "2023-07-01T22:23:57.295604Z",
     "iopub.status.idle": "2023-07-01T22:23:57.305075Z",
     "shell.execute_reply": "2023-07-01T22:23:57.305760Z",
     "shell.execute_reply.started": "2023-07-01T22:20:20.884163Z"
    },
    "papermill": {
     "duration": 0.046007,
     "end_time": "2023-07-01T22:23:57.305987",
     "exception": false,
     "start_time": "2023-07-01T22:23:57.259980",
     "status": "completed"
    },
    "tags": []
   },
   "outputs": [
    {
     "data": {
      "text/plain": [
       "0    4825\n",
       "1     747\n",
       "Name: label, dtype: int64"
      ]
     },
     "execution_count": 4,
     "metadata": {},
     "output_type": "execute_result"
    }
   ],
   "source": [
    "# mais casos negativos (ham) que positivos (spams) \n",
    "sms.label.value_counts()"
   ]
  },
  {
   "cell_type": "code",
   "execution_count": 5,
   "id": "3894504d",
   "metadata": {
    "execution": {
     "iopub.execute_input": "2023-07-01T22:23:57.376196Z",
     "iopub.status.busy": "2023-07-01T22:23:57.375427Z",
     "iopub.status.idle": "2023-07-01T22:23:58.345460Z",
     "shell.execute_reply": "2023-07-01T22:23:58.344794Z",
     "shell.execute_reply.started": "2023-07-01T22:20:20.904252Z"
    },
    "papermill": {
     "duration": 1.006718,
     "end_time": "2023-07-01T22:23:58.345637",
     "exception": false,
     "start_time": "2023-07-01T22:23:57.338919",
     "status": "completed"
    },
    "tags": []
   },
   "outputs": [],
   "source": [
    "#Dividindo a base em treino e teste\n",
    "from sklearn.model_selection import train_test_split\n",
    "features_train, features_test, labels_train, labels_test = train_test_split(sms.message, \n",
    "                                                                            sms.label, \n",
    "                                                                            test_size=0.2)"
   ]
  },
  {
   "cell_type": "code",
   "execution_count": 6,
   "id": "075d5ba4",
   "metadata": {
    "execution": {
     "iopub.execute_input": "2023-07-01T22:23:58.416227Z",
     "iopub.status.busy": "2023-07-01T22:23:58.415479Z",
     "iopub.status.idle": "2023-07-01T22:23:58.577944Z",
     "shell.execute_reply": "2023-07-01T22:23:58.578610Z",
     "shell.execute_reply.started": "2023-07-01T22:20:21.298398Z"
    },
    "papermill": {
     "duration": 0.198712,
     "end_time": "2023-07-01T22:23:58.578818",
     "exception": false,
     "start_time": "2023-07-01T22:23:58.380106",
     "status": "completed"
    },
    "tags": []
   },
   "outputs": [
    {
     "data": {
      "text/plain": [
       "CountVectorizer()"
      ]
     },
     "execution_count": 6,
     "metadata": {},
     "output_type": "execute_result"
    }
   ],
   "source": [
    "# Criando o documento de treino\n",
    "\n",
    "from sklearn.feature_extraction.text import CountVectorizer\n",
    "\n",
    "couvec = CountVectorizer()\n",
    "couvec.fit(features_train)"
   ]
  },
  {
   "cell_type": "code",
   "execution_count": 7,
   "id": "ccb4ee9e",
   "metadata": {
    "execution": {
     "iopub.execute_input": "2023-07-01T22:23:58.648679Z",
     "iopub.status.busy": "2023-07-01T22:23:58.647873Z",
     "iopub.status.idle": "2023-07-01T22:23:58.659535Z",
     "shell.execute_reply": "2023-07-01T22:23:58.658930Z",
     "shell.execute_reply.started": "2023-07-01T22:20:21.450315Z"
    },
    "papermill": {
     "duration": 0.047882,
     "end_time": "2023-07-01T22:23:58.659735",
     "exception": false,
     "start_time": "2023-07-01T22:23:58.611853",
     "status": "completed"
    },
    "tags": []
   },
   "outputs": [
    {
     "name": "stdout",
     "output_type": "stream",
     "text": [
      "Número de características vetorizadas: 7795\n",
      "Exemplos de características treinadas: ['000', '008704050406', '0089', '0121', '01223585334', '02', '0207', '02072069400', '02073162414']\n"
     ]
    }
   ],
   "source": [
    "# número de características ou tokens\n",
    "trained_features = couvec.get_feature_names()\n",
    "print(\"Número de características vetorizadas:\", len(trained_features))\n",
    "print(\"Exemplos de características treinadas:\", trained_features[1:10])"
   ]
  },
  {
   "cell_type": "code",
   "execution_count": 8,
   "id": "229d6aa4",
   "metadata": {
    "execution": {
     "iopub.execute_input": "2023-07-01T22:23:58.772772Z",
     "iopub.status.busy": "2023-07-01T22:23:58.736087Z",
     "iopub.status.idle": "2023-07-01T22:23:58.873604Z",
     "shell.execute_reply": "2023-07-01T22:23:58.872935Z",
     "shell.execute_reply.started": "2023-07-01T22:20:21.467373Z"
    },
    "papermill": {
     "duration": 0.17953,
     "end_time": "2023-07-01T22:23:58.873766",
     "exception": false,
     "start_time": "2023-07-01T22:23:58.694236",
     "status": "completed"
    },
    "tags": []
   },
   "outputs": [
    {
     "name": "stdout",
     "output_type": "stream",
     "text": [
      "Shape of dtm_train: (4457, 7795)\n",
      "  (0, 2008)\t1\n",
      "  (0, 6293)\t1\n",
      "  (0, 3531)\t1\n",
      "  (0, 1912)\t1\n",
      "  (0, 7737)\t1\n",
      "  (0, 3368)\t1\n",
      "  (0, 1285)\t1\n",
      "  (0, 7553)\t1\n",
      "  (0, 960)\t1\n",
      "  (0, 2336)\t1\n",
      "  (0, 1291)\t1\n",
      "  (1, 3343)\t1\n",
      "  (1, 4779)\t1\n",
      "  (1, 7711)\t1\n",
      "  (1, 4457)\t1\n"
     ]
    }
   ],
   "source": [
    "# tokenized train documents\n",
    "\n",
    "dtm_train = couvec.fit_transform(features_train)\n",
    "print(\"Shape of dtm_train:\", dtm_train.shape)\n",
    "print(dtm_train[0:2]) # first two rows of sparse matrix"
   ]
  },
  {
   "cell_type": "code",
   "execution_count": 9,
   "id": "edf22edb",
   "metadata": {
    "execution": {
     "iopub.execute_input": "2023-07-01T22:23:58.962132Z",
     "iopub.status.busy": "2023-07-01T22:23:58.961014Z",
     "iopub.status.idle": "2023-07-01T22:23:58.980398Z",
     "shell.execute_reply": "2023-07-01T22:23:58.981029Z",
     "shell.execute_reply.started": "2023-07-01T22:20:21.615186Z"
    },
    "papermill": {
     "duration": 0.073545,
     "end_time": "2023-07-01T22:23:58.981231",
     "exception": false,
     "start_time": "2023-07-01T22:23:58.907686",
     "status": "completed"
    },
    "tags": []
   },
   "outputs": [
    {
     "name": "stdout",
     "output_type": "stream",
     "text": [
      "Shape of dtm_test: (1115, 7795)\n"
     ]
    }
   ],
   "source": [
    "# tokenized test documents\n",
    "\n",
    "dtm_test = couvec.transform(features_test)\n",
    "print(\"Shape of dtm_test:\", dtm_test.shape)"
   ]
  },
  {
   "cell_type": "code",
   "execution_count": 10,
   "id": "199b4b66",
   "metadata": {
    "execution": {
     "iopub.execute_input": "2023-07-01T22:23:59.054386Z",
     "iopub.status.busy": "2023-07-01T22:23:59.053522Z",
     "iopub.status.idle": "2023-07-01T22:23:59.061809Z",
     "shell.execute_reply": "2023-07-01T22:23:59.061119Z",
     "shell.execute_reply.started": "2023-07-01T22:20:21.654611Z"
    },
    "papermill": {
     "duration": 0.0458,
     "end_time": "2023-07-01T22:23:59.062025",
     "exception": false,
     "start_time": "2023-07-01T22:23:59.016225",
     "status": "completed"
    },
    "tags": []
   },
   "outputs": [],
   "source": [
    "# Construíndo e avaliando o modelo \n",
    "\n",
    "# Multimodal Naive Bayes \n",
    "# O classificador multimodal Naive Bays é útil para classificar características discretas. \n",
    "# (e.g., número de palavras para classificação de textos). \n",
    "# A distribuição multimodal requer geralmente contadores inteiros como features.\n",
    "\n",
    "# Importando e instanciando o modelo Nayve Bayes Multimodal\n",
    "from sklearn.naive_bayes import MultinomialNB\n",
    "nb = MultinomialNB()"
   ]
  },
  {
   "cell_type": "code",
   "execution_count": 11,
   "id": "5e98f50c",
   "metadata": {
    "execution": {
     "iopub.execute_input": "2023-07-01T22:23:59.137875Z",
     "iopub.status.busy": "2023-07-01T22:23:59.136698Z",
     "iopub.status.idle": "2023-07-01T22:23:59.144628Z",
     "shell.execute_reply": "2023-07-01T22:23:59.145243Z",
     "shell.execute_reply.started": "2023-07-01T22:20:21.664493Z"
    },
    "papermill": {
     "duration": 0.048104,
     "end_time": "2023-07-01T22:23:59.145439",
     "exception": false,
     "start_time": "2023-07-01T22:23:59.097335",
     "status": "completed"
    },
    "tags": []
   },
   "outputs": [
    {
     "data": {
      "text/plain": [
       "MultinomialNB()"
      ]
     },
     "execution_count": 11,
     "metadata": {},
     "output_type": "execute_result"
    }
   ],
   "source": [
    "# Treinando o modelo\n",
    "\n",
    "nb.fit(dtm_train, labels_train)"
   ]
  },
  {
   "cell_type": "code",
   "execution_count": 12,
   "id": "7f0c5813",
   "metadata": {
    "execution": {
     "iopub.execute_input": "2023-07-01T22:23:59.221527Z",
     "iopub.status.busy": "2023-07-01T22:23:59.219108Z",
     "iopub.status.idle": "2023-07-01T22:23:59.225160Z",
     "shell.execute_reply": "2023-07-01T22:23:59.224378Z",
     "shell.execute_reply.started": "2023-07-01T22:20:21.683791Z"
    },
    "papermill": {
     "duration": 0.044692,
     "end_time": "2023-07-01T22:23:59.225326",
     "exception": false,
     "start_time": "2023-07-01T22:23:59.180634",
     "status": "completed"
    },
    "tags": []
   },
   "outputs": [],
   "source": [
    "# Fazendo predições\n",
    "\n",
    "labels_pred = nb.predict(dtm_test)"
   ]
  },
  {
   "cell_type": "code",
   "execution_count": 13,
   "id": "8480385b",
   "metadata": {
    "execution": {
     "iopub.execute_input": "2023-07-01T22:23:59.303062Z",
     "iopub.status.busy": "2023-07-01T22:23:59.302000Z",
     "iopub.status.idle": "2023-07-01T22:23:59.306949Z",
     "shell.execute_reply": "2023-07-01T22:23:59.307512Z",
     "shell.execute_reply.started": "2023-07-01T22:20:21.691268Z"
    },
    "papermill": {
     "duration": 0.046425,
     "end_time": "2023-07-01T22:23:59.307693",
     "exception": false,
     "start_time": "2023-07-01T22:23:59.261268",
     "status": "completed"
    },
    "tags": []
   },
   "outputs": [
    {
     "data": {
      "text/plain": [
       "0.9838565022421525"
      ]
     },
     "execution_count": 13,
     "metadata": {},
     "output_type": "execute_result"
    }
   ],
   "source": [
    "# Acurácia\n",
    "from sklearn import metrics\n",
    "metrics.accuracy_score(labels_test, labels_pred)"
   ]
  },
  {
   "cell_type": "code",
   "execution_count": 14,
   "id": "9504b1b4",
   "metadata": {
    "execution": {
     "iopub.execute_input": "2023-07-01T22:23:59.384028Z",
     "iopub.status.busy": "2023-07-01T22:23:59.383053Z",
     "iopub.status.idle": "2023-07-01T22:23:59.389912Z",
     "shell.execute_reply": "2023-07-01T22:23:59.390605Z",
     "shell.execute_reply.started": "2023-07-01T22:20:21.709473Z"
    },
    "papermill": {
     "duration": 0.048279,
     "end_time": "2023-07-01T22:23:59.390795",
     "exception": false,
     "start_time": "2023-07-01T22:23:59.342516",
     "status": "completed"
    },
    "tags": []
   },
   "outputs": [
    {
     "data": {
      "text/plain": [
       "array([[968,   2],\n",
       "       [ 16, 129]])"
      ]
     },
     "execution_count": 14,
     "metadata": {},
     "output_type": "execute_result"
    }
   ],
   "source": [
    "# Criando a matrix de confusão para precisão e recall (essas são duas outrss métricas de avaliação) \n",
    "metrics.confusion_matrix(labels_test, labels_pred)"
   ]
  },
  {
   "cell_type": "code",
   "execution_count": 15,
   "id": "0d667d90",
   "metadata": {
    "execution": {
     "iopub.execute_input": "2023-07-01T22:23:59.465425Z",
     "iopub.status.busy": "2023-07-01T22:23:59.464547Z",
     "iopub.status.idle": "2023-07-01T22:23:59.474693Z",
     "shell.execute_reply": "2023-07-01T22:23:59.475319Z",
     "shell.execute_reply.started": "2023-07-01T22:20:21.731740Z"
    },
    "papermill": {
     "duration": 0.049482,
     "end_time": "2023-07-01T22:23:59.475534",
     "exception": false,
     "start_time": "2023-07-01T22:23:59.426052",
     "status": "completed"
    },
    "tags": []
   },
   "outputs": [
    {
     "name": "stdout",
     "output_type": "stream",
     "text": [
      "Recall: 0.8896551724137931\n",
      "Precisão: 0.9847328244274809\n"
     ]
    }
   ],
   "source": [
    "# Percentagem do total de spams detectados i.e.recall\n",
    "print(\"Recall:\", metrics.recall_score(labels_test, labels_pred))\n",
    "\n",
    "# Percentagem das predições positivas (spams) corretas, i.e. precisão\n",
    "print(\"Precisão:\", metrics.precision_score(labels_test, labels_pred))"
   ]
  },
  {
   "cell_type": "code",
   "execution_count": 16,
   "id": "4bda9097",
   "metadata": {
    "execution": {
     "iopub.execute_input": "2023-07-01T22:23:59.555838Z",
     "iopub.status.busy": "2023-07-01T22:23:59.554826Z",
     "iopub.status.idle": "2023-07-01T22:23:59.559720Z",
     "shell.execute_reply": "2023-07-01T22:23:59.560293Z",
     "shell.execute_reply.started": "2023-07-01T22:20:21.745826Z"
    },
    "papermill": {
     "duration": 0.048465,
     "end_time": "2023-07-01T22:23:59.560478",
     "exception": false,
     "start_time": "2023-07-01T22:23:59.512013",
     "status": "completed"
    },
    "tags": []
   },
   "outputs": [
    {
     "name": "stdout",
     "output_type": "stream",
     "text": [
      "Ordem das classes no predict_proba: [0 1]\n",
      "Exemplos de probabilidades de classes: [9.99615437e-01 3.84563357e-04]\n"
     ]
    }
   ],
   "source": [
    "print(\"Ordem das classes no predict_proba:\", nb.classes_)\n",
    "print(\"Exemplos de probabilidades de classes:\", nb.predict_proba(dtm_test)[0])\n"
   ]
  },
  {
   "cell_type": "code",
   "execution_count": 17,
   "id": "4b2805b1",
   "metadata": {
    "execution": {
     "iopub.execute_input": "2023-07-01T22:23:59.637711Z",
     "iopub.status.busy": "2023-07-01T22:23:59.636922Z",
     "iopub.status.idle": "2023-07-01T22:23:59.644622Z",
     "shell.execute_reply": "2023-07-01T22:23:59.645205Z",
     "shell.execute_reply.started": "2023-07-01T22:20:21.758301Z"
    },
    "papermill": {
     "duration": 0.048212,
     "end_time": "2023-07-01T22:23:59.645412",
     "exception": false,
     "start_time": "2023-07-01T22:23:59.597200",
     "status": "completed"
    },
    "tags": []
   },
   "outputs": [],
   "source": [
    "# Uma vez que somente ~15% dos rótulos são positivos (spam), a curva precisão-recall é mais informativa que\n",
    "# a curva ROC\n",
    "\n",
    "labels_prob = nb.predict_proba(dtm_test)[:, 1]\n",
    "precisions, recalls, thresholds = metrics.precision_recall_curve(labels_test, labels_prob)"
   ]
  },
  {
   "cell_type": "code",
   "execution_count": 18,
   "id": "3315e1b6",
   "metadata": {
    "execution": {
     "iopub.execute_input": "2023-07-01T22:23:59.728706Z",
     "iopub.status.busy": "2023-07-01T22:23:59.727863Z",
     "iopub.status.idle": "2023-07-01T22:24:00.078351Z",
     "shell.execute_reply": "2023-07-01T22:24:00.077551Z",
     "shell.execute_reply.started": "2023-07-01T22:20:21.771049Z"
    },
    "papermill": {
     "duration": 0.395491,
     "end_time": "2023-07-01T22:24:00.078517",
     "exception": false,
     "start_time": "2023-07-01T22:23:59.683026",
     "status": "completed"
    },
    "tags": []
   },
   "outputs": [
    {
     "data": {
      "image/png": "[encoded data removed]",
      "text/plain": [
       "<Figure size 720x504 with 1 Axes>"
      ]
     },
     "metadata": {
      "needs_background": "light"
     },
     "output_type": "display_data"
    }
   ],
   "source": [
    "# Plotando a curva precisão-recall \n",
    "\n",
    "import matplotlib.pyplot as plt\n",
    "plt.figure(figsize=(10, 7))\n",
    "plt.plot(precisions[:-1], recalls[:-1])\n",
    "plt.xlabel(\"Recalls\")\n",
    "plt.xticks(np.arange(0, 1.1, 0.1))\n",
    "plt.ylabel(\"Precisão\")\n",
    "plt.yticks(np.arange(0, 1.1, 0.1))\n",
    "plt.title(\"Curva Precisão-Recall\")\n",
    "plt.show()"
   ]
  },
  {
   "cell_type": "markdown",
   "id": "084eb5ca",
   "metadata": {
    "papermill": {
     "duration": 0.036844,
     "end_time": "2023-07-01T22:24:00.152720",
     "exception": false,
     "start_time": "2023-07-01T22:24:00.115876",
     "status": "completed"
    },
    "tags": []
   },
   "source": [
    "### Nome: André Luiz Moreira Dutra\n",
    "### Matrícula: 2019006345"
   ]
  },
  {
   "cell_type": "markdown",
   "id": "cb391cb3",
   "metadata": {
    "papermill": {
     "duration": 0.036938,
     "end_time": "2023-07-01T22:24:00.228028",
     "exception": false,
     "start_time": "2023-07-01T22:24:00.191090",
     "status": "completed"
    },
    "tags": []
   },
   "source": [
    "# A Base ExAIS_SPAM\n",
    "Primeiramente, vamos aumentar a nossa base de hams e spams e com isso permitir uma melhor classificação dos resultados.\n",
    "\n",
    "Para isso, à base original vamos adicionar dados da base ExAIS de mensagens de SMS, disponíveis em:\n",
    "\n",
    "> https://github.com/AbayomiAlli/SMS-Spam-Dataset\n",
    "\n",
    "A base contém mensagens enviadas e recebidas por 20 usuários, classificadas como ham ou spam, dentre outras informações.\n",
    "\n",
    "O tratamento da base foi feito da seguinte forma:\n",
    "1. Primeiro, os dados de todos os usuários foram unidos.\n",
    "2. Em seguida, os dados das mensagens e da classificação em ham e spam foram selecionados, e os demais descartados.\n",
    "3. Por fim, mensagens enviadas e classificadas como spam foram eliminadas dos dados.\n",
    "   1. Isso foi feito pois elas correspondiam a respostas dos usuários a números de spam como \"CANCEL\", \"STOP\".\n",
    "   2. Sendo assim, elas não correspondiam ao padrão de mensagens de spam que queremos detectar."
   ]
  },
  {
   "cell_type": "code",
   "execution_count": 19,
   "id": "8a7f9c00",
   "metadata": {
    "execution": {
     "iopub.execute_input": "2023-07-01T22:24:00.308493Z",
     "iopub.status.busy": "2023-07-01T22:24:00.307582Z",
     "iopub.status.idle": "2023-07-01T22:24:00.346052Z",
     "shell.execute_reply": "2023-07-01T22:24:00.346747Z",
     "shell.execute_reply.started": "2023-07-01T22:20:22.136479Z"
    },
    "papermill": {
     "duration": 0.082017,
     "end_time": "2023-07-01T22:24:00.346990",
     "exception": false,
     "start_time": "2023-07-01T22:24:00.264973",
     "status": "completed"
    },
    "tags": []
   },
   "outputs": [
    {
     "data": {
      "text/html": [
       "<div>\n",
       "<style scoped>\n",
       "    .dataframe tbody tr th:only-of-type {\n",
       "        vertical-align: middle;\n",
       "    }\n",
       "\n",
       "    .dataframe tbody tr th {\n",
       "        vertical-align: top;\n",
       "    }\n",
       "\n",
       "    .dataframe thead th {\n",
       "        text-align: right;\n",
       "    }\n",
       "</style>\n",
       "<table border=\"1\" class=\"dataframe\">\n",
       "  <thead>\n",
       "    <tr style=\"text-align: right;\">\n",
       "      <th></th>\n",
       "      <th>label</th>\n",
       "      <th>message</th>\n",
       "    </tr>\n",
       "  </thead>\n",
       "  <tbody>\n",
       "    <tr>\n",
       "      <th>3546</th>\n",
       "      <td>spam</td>\n",
       "      <td>If you cannot find the brighter side of life p...</td>\n",
       "    </tr>\n",
       "    <tr>\n",
       "      <th>2225</th>\n",
       "      <td>spam</td>\n",
       "      <td>Dear Valued Customer, Welcome to Airtel! The N...</td>\n",
       "    </tr>\n",
       "    <tr>\n",
       "      <th>135</th>\n",
       "      <td>ham</td>\n",
       "      <td>70XXXXX653</td>\n",
       "    </tr>\n",
       "    <tr>\n",
       "      <th>4925</th>\n",
       "      <td>spam</td>\n",
       "      <td>Please call Buy GOtv Decoder + 1 Month GOtv Pl...</td>\n",
       "    </tr>\n",
       "    <tr>\n",
       "      <th>730</th>\n",
       "      <td>ham</td>\n",
       "      <td>TANKX 4 being a calumniator and besmirchous nd...</td>\n",
       "    </tr>\n",
       "  </tbody>\n",
       "</table>\n",
       "</div>"
      ],
      "text/plain": [
       "     label                                            message\n",
       "3546  spam  If you cannot find the brighter side of life p...\n",
       "2225  spam  Dear Valued Customer, Welcome to Airtel! The N...\n",
       "135    ham                                         70XXXXX653\n",
       "4925  spam  Please call Buy GOtv Decoder + 1 Month GOtv Pl...\n",
       "730    ham  TANKX 4 being a calumniator and besmirchous nd..."
      ]
     },
     "execution_count": 19,
     "metadata": {},
     "output_type": "execute_result"
    }
   ],
   "source": [
    "sms_exais = pd.read_csv(\"/kaggle/input/exais-sms-spam-dataset/ExAIS_SMS.csv\")\n",
    "sms_exais.sample(5)"
   ]
  },
  {
   "cell_type": "markdown",
   "id": "1ba38154",
   "metadata": {
    "papermill": {
     "duration": 0.038198,
     "end_time": "2023-07-01T22:24:00.424830",
     "exception": false,
     "start_time": "2023-07-01T22:24:00.386632",
     "status": "completed"
    },
    "tags": []
   },
   "source": [
    "# A Nova Base\n",
    "\n",
    "Vamos agora unir a base ExAIS à já utilizada e formar uma nova base mais robusta e com menor diferença entre hams e spams:"
   ]
  },
  {
   "cell_type": "code",
   "execution_count": 20,
   "id": "a4f762fe",
   "metadata": {
    "execution": {
     "iopub.execute_input": "2023-07-01T22:24:00.504939Z",
     "iopub.status.busy": "2023-07-01T22:24:00.504123Z",
     "iopub.status.idle": "2023-07-01T22:24:00.537731Z",
     "shell.execute_reply": "2023-07-01T22:24:00.538353Z",
     "shell.execute_reply.started": "2023-07-01T22:20:22.170479Z"
    },
    "papermill": {
     "duration": 0.075492,
     "end_time": "2023-07-01T22:24:00.538557",
     "exception": false,
     "start_time": "2023-07-01T22:24:00.463065",
     "status": "completed"
    },
    "tags": []
   },
   "outputs": [
    {
     "data": {
      "text/html": [
       "<div>\n",
       "<style scoped>\n",
       "    .dataframe tbody tr th:only-of-type {\n",
       "        vertical-align: middle;\n",
       "    }\n",
       "\n",
       "    .dataframe tbody tr th {\n",
       "        vertical-align: top;\n",
       "    }\n",
       "\n",
       "    .dataframe thead th {\n",
       "        text-align: right;\n",
       "    }\n",
       "</style>\n",
       "<table border=\"1\" class=\"dataframe\">\n",
       "  <thead>\n",
       "    <tr style=\"text-align: right;\">\n",
       "      <th></th>\n",
       "      <th>label</th>\n",
       "      <th>message</th>\n",
       "    </tr>\n",
       "  </thead>\n",
       "  <tbody>\n",
       "    <tr>\n",
       "      <th>2978</th>\n",
       "      <td>1</td>\n",
       "      <td>Xmas Offer! Latest Motorola, SonyEricsson &amp; No...</td>\n",
       "    </tr>\n",
       "    <tr>\n",
       "      <th>1535</th>\n",
       "      <td>1</td>\n",
       "      <td>You have won a Nokia 7250i. This is what you g...</td>\n",
       "    </tr>\n",
       "    <tr>\n",
       "      <th>1269</th>\n",
       "      <td>0</td>\n",
       "      <td>Tee hee. Off to lecture, cheery bye bye.</td>\n",
       "    </tr>\n",
       "    <tr>\n",
       "      <th>292</th>\n",
       "      <td>0</td>\n",
       "      <td>Oops. 4 got that bit.</td>\n",
       "    </tr>\n",
       "    <tr>\n",
       "      <th>2598</th>\n",
       "      <td>0</td>\n",
       "      <td>Pls reply</td>\n",
       "    </tr>\n",
       "  </tbody>\n",
       "</table>\n",
       "</div>"
      ],
      "text/plain": [
       "      label                                            message\n",
       "2978      1  Xmas Offer! Latest Motorola, SonyEricsson & No...\n",
       "1535      1  You have won a Nokia 7250i. This is what you g...\n",
       "1269      0           Tee hee. Off to lecture, cheery bye bye.\n",
       "292       0                              Oops. 4 got that bit.\n",
       "2598      0                                          Pls reply"
      ]
     },
     "execution_count": 20,
     "metadata": {},
     "output_type": "execute_result"
    }
   ],
   "source": [
    "sms_uci = pd.read_csv(\"/kaggle/input/sms-spam-collection-dataset/spam.csv\", encoding = \"ISO-8859-1\", usecols=[0,1], skiprows=1,\n",
    "                      names=[\"label\", \"message\"])\n",
    "\n",
    "sms = pd.concat([sms_exais, sms_uci])\n",
    "sms.label = sms.label.map({\"ham\":0, \"spam\":1})\n",
    "sms.sample(5)"
   ]
  },
  {
   "cell_type": "markdown",
   "id": "6fbac859",
   "metadata": {
    "papermill": {
     "duration": 0.039054,
     "end_time": "2023-07-01T22:24:00.616381",
     "exception": false,
     "start_time": "2023-07-01T22:24:00.577327",
     "status": "completed"
    },
    "tags": []
   },
   "source": [
    "Observe como os novos dados têm uma proporção ligeiramente maior de spams que antes:"
   ]
  },
  {
   "cell_type": "code",
   "execution_count": 21,
   "id": "d1f0f16d",
   "metadata": {
    "execution": {
     "iopub.execute_input": "2023-07-01T22:24:00.704738Z",
     "iopub.status.busy": "2023-07-01T22:24:00.703723Z",
     "iopub.status.idle": "2023-07-01T22:24:00.708188Z",
     "shell.execute_reply": "2023-07-01T22:24:00.707481Z",
     "shell.execute_reply.started": "2023-07-01T22:20:22.206304Z"
    },
    "papermill": {
     "duration": 0.053104,
     "end_time": "2023-07-01T22:24:00.708352",
     "exception": false,
     "start_time": "2023-07-01T22:24:00.655248",
     "status": "completed"
    },
    "tags": []
   },
   "outputs": [
    {
     "name": "stdout",
     "output_type": "stream",
     "text": [
      "Proporção antiga de spams: 13.41%\n",
      "Proporção nova de spams:   27.42%\n"
     ]
    }
   ],
   "source": [
    "old_hams, old_spams = sms_uci.label.value_counts()\n",
    "print('Proporção antiga de spams: {:.2f}%'.format(100*old_spams/(old_hams+old_spams)))\n",
    "\n",
    "hams, spams = sms.label.value_counts()\n",
    "print('Proporção nova de spams:   {:.2f}%'.format(100*spams/(hams+spams)))"
   ]
  },
  {
   "cell_type": "markdown",
   "id": "1daf9d33",
   "metadata": {
    "papermill": {
     "duration": 0.039624,
     "end_time": "2023-07-01T22:24:00.788099",
     "exception": false,
     "start_time": "2023-07-01T22:24:00.748475",
     "status": "completed"
    },
    "tags": []
   },
   "source": [
    "# Tratamento dos Dados\n",
    "Vamos agora separar os dados em treino e teste e vetorizar os textos das mensagens:"
   ]
  },
  {
   "cell_type": "code",
   "execution_count": 22,
   "id": "1fe5b1cb",
   "metadata": {
    "execution": {
     "iopub.execute_input": "2023-07-01T22:24:00.875139Z",
     "iopub.status.busy": "2023-07-01T22:24:00.868895Z",
     "iopub.status.idle": "2023-07-01T22:24:01.527426Z",
     "shell.execute_reply": "2023-07-01T22:24:01.528048Z",
     "shell.execute_reply.started": "2023-07-01T22:20:22.218934Z"
    },
    "papermill": {
     "duration": 0.700989,
     "end_time": "2023-07-01T22:24:01.528270",
     "exception": false,
     "start_time": "2023-07-01T22:24:00.827281",
     "status": "completed"
    },
    "tags": []
   },
   "outputs": [],
   "source": [
    "features_train, features_test, labels_train, labels_test = train_test_split(sms.message, sms.label, test_size=0.2, random_state = 52)\n",
    "couvec = CountVectorizer()\n",
    "couvec.fit(features_train)\n",
    "dtm_train = couvec.fit_transform(features_train)\n",
    "dtm_test = couvec.transform(features_test)"
   ]
  },
  {
   "cell_type": "markdown",
   "id": "8210ef5e",
   "metadata": {
    "papermill": {
     "duration": 0.040377,
     "end_time": "2023-07-01T22:24:01.607371",
     "exception": false,
     "start_time": "2023-07-01T22:24:01.566994",
     "status": "completed"
    },
    "tags": []
   },
   "source": [
    "# Treinamento e Teste dos Modelos\n",
    "A seguinte função encapsula o treino e o teste que será feito em cada modelo.\n",
    "\n",
    "Dado o modelo, os dados e treino e os dados de teste, ela:\n",
    "  1. Treina o modelo\n",
    "  2. Prediz os dados de teste\n",
    "  3. Retorna a acurácia, precisão, recall e os vetores de precisões e recalls dos resultados do teste em relação às labels verdadeiras \n"
   ]
  },
  {
   "cell_type": "code",
   "execution_count": 23,
   "id": "c43ea3fd",
   "metadata": {
    "execution": {
     "iopub.execute_input": "2023-07-01T22:24:01.697492Z",
     "iopub.status.busy": "2023-07-01T22:24:01.696348Z",
     "iopub.status.idle": "2023-07-01T22:24:01.699387Z",
     "shell.execute_reply": "2023-07-01T22:24:01.698640Z",
     "shell.execute_reply.started": "2023-07-01T22:20:22.879532Z"
    },
    "papermill": {
     "duration": 0.0517,
     "end_time": "2023-07-01T22:24:01.699558",
     "exception": false,
     "start_time": "2023-07-01T22:24:01.647858",
     "status": "completed"
    },
    "tags": []
   },
   "outputs": [],
   "source": [
    "def train_test_spam(model, vectors_train, labels_train, vectors_test, labels_test):\n",
    "    model.fit(vectors_train, labels_train)\n",
    "    labels_pred = model.predict(vectors_test)\n",
    "    \n",
    "    accuracy  = metrics.accuracy_score(labels_test, labels_pred)\n",
    "    precision = metrics.precision_score(labels_test, labels_pred)\n",
    "    recall    = metrics.recall_score(labels_test, labels_pred)\n",
    "    \n",
    "    labels_prob = model.predict_proba(vectors_test)[:, 1]\n",
    "    precisions_list, recalls_list, _ = metrics.precision_recall_curve(labels_test, labels_prob)\n",
    "    \n",
    "    return accuracy, precision, recall, precisions_list[:-1], recalls_list[:-1]"
   ]
  },
  {
   "cell_type": "markdown",
   "id": "c2f225dc",
   "metadata": {
    "papermill": {
     "duration": 0.039219,
     "end_time": "2023-07-01T22:24:01.778002",
     "exception": false,
     "start_time": "2023-07-01T22:24:01.738783",
     "status": "completed"
    },
    "tags": []
   },
   "source": [
    "# Proposição de Um Novo Modelo e Comparação\n",
    "\n",
    "Em seguida, vamos testar os modelos.\n",
    "* Propomos como um melhor modelo o Random Forest, pois:\n",
    "  * Sendo formado por árvores de decisão, ele se adapta bem a dados discretos, como o Naive Bayes.\n",
    "  * A feature selection interna feita pelo modelo o torna robusto a features correlacionadas, redundantes ou irrelevante.\n",
    "  * Isso é especialmente benéfico para os vetores esparsos utilizados nesta classificação\n",
    "* Ele será treinado e testado em comparação ao modelo anterior, o Naive Bayes Multimodal, para os mesmos parâmetros"
   ]
  },
  {
   "cell_type": "code",
   "execution_count": 24,
   "id": "242e1505",
   "metadata": {
    "execution": {
     "iopub.execute_input": "2023-07-01T22:24:01.862102Z",
     "iopub.status.busy": "2023-07-01T22:24:01.861323Z",
     "iopub.status.idle": "2023-07-01T22:24:12.464687Z",
     "shell.execute_reply": "2023-07-01T22:24:12.465321Z",
     "shell.execute_reply.started": "2023-07-01T22:20:22.889984Z"
    },
    "papermill": {
     "duration": 10.648778,
     "end_time": "2023-07-01T22:24:12.465546",
     "exception": false,
     "start_time": "2023-07-01T22:24:01.816768",
     "status": "completed"
    },
    "tags": []
   },
   "outputs": [],
   "source": [
    "from sklearn.naive_bayes import MultinomialNB\n",
    "from sklearn.ensemble import RandomForestClassifier\n",
    "\n",
    "model_names = ['Naive Bayes', 'Random Forest']\n",
    "\n",
    "models = [MultinomialNB(), RandomForestClassifier(random_state = 52)]\n",
    "\n",
    "results = [train_test_spam(model, dtm_train, labels_train, dtm_test, labels_test) for model in models]"
   ]
  },
  {
   "cell_type": "markdown",
   "id": "20055ff6",
   "metadata": {
    "papermill": {
     "duration": 0.039253,
     "end_time": "2023-07-01T22:24:12.544548",
     "exception": false,
     "start_time": "2023-07-01T22:24:12.505295",
     "status": "completed"
    },
    "tags": []
   },
   "source": [
    "# Plot dos Resultados\n",
    "\n",
    "Observe as métricas e as curvas de precisão x recall de cada modelo:"
   ]
  },
  {
   "cell_type": "code",
   "execution_count": 25,
   "id": "beeebac7",
   "metadata": {
    "execution": {
     "iopub.execute_input": "2023-07-01T22:24:12.628599Z",
     "iopub.status.busy": "2023-07-01T22:24:12.627797Z",
     "iopub.status.idle": "2023-07-01T22:24:13.133644Z",
     "shell.execute_reply": "2023-07-01T22:24:13.134268Z",
     "shell.execute_reply.started": "2023-07-01T22:20:33.429022Z"
    },
    "papermill": {
     "duration": 0.548746,
     "end_time": "2023-07-01T22:24:13.134481",
     "exception": false,
     "start_time": "2023-07-01T22:24:12.585735",
     "status": "completed"
    },
    "tags": []
   },
   "outputs": [
    {
     "data": {
      "image/png": "[encoded data removed]",
      "text/plain": [
       "<Figure size 1440x576 with 2 Axes>"
      ]
     },
     "metadata": {
      "needs_background": "light"
     },
     "output_type": "display_data"
    }
   ],
   "source": [
    "import matplotlib.pyplot as plt\n",
    "\n",
    "models_num = len(models)\n",
    "\n",
    "fig, axes = plt.subplots(1,2, figsize=(20,8))\n",
    "\n",
    "bars_ax, curves_ax = axes\n",
    "\n",
    "bar_width = 0.05\n",
    "label_dist = 1.6*models_num*bar_width\n",
    "bar_label_pos = np.arange(0, 3*label_dist, label_dist)\n",
    "\n",
    "for idx, model_name, (accuracy, precision, recall, precisions_list, recalls_list) in zip(range(models_num), model_names, results):\n",
    "    \n",
    "    x = [pos - 0.5*(models_num-1)*bar_width + idx*bar_width for pos in bar_label_pos]\n",
    "    y = [accuracy, precision, recall]\n",
    "    bars_ax.bar(x, y, width = bar_width, label=model_name)\n",
    "    \n",
    "    curves_ax.plot(precisions_list, recalls_list, label=model_name)\n",
    "\n",
    "bars_ax.set_xticks(bar_label_pos)\n",
    "bars_ax.set_xticklabels(['Acurácia', 'Precisão', 'Recall'])\n",
    "bars_ax.set_ylabel('Porcentagem(%)')\n",
    "bars_ax.set_yticks(np.arange(0, 1.1, 0.1))\n",
    "bars_ax.set_title('Métricas de Desempenho')\n",
    "bars_ax.legend()\n",
    "\n",
    "curves_ax.set_xlabel('Recalls')\n",
    "curves_ax.set_ylabel('Precisão')\n",
    "curves_ax.set_xticks(np.arange(0, 1.1, 0.1))\n",
    "curves_ax.set_yticks(np.arange(0, 1.1, 0.1))\n",
    "curves_ax.set_title('Curva Precisão-Recall')\n",
    "curves_ax.legend()\n",
    "\n",
    "fig.show()"
   ]
  },
  {
   "cell_type": "markdown",
   "id": "c9a88fab",
   "metadata": {
    "papermill": {
     "duration": 0.040985,
     "end_time": "2023-07-01T22:24:13.216526",
     "exception": false,
     "start_time": "2023-07-01T22:24:13.175541",
     "status": "completed"
    },
    "tags": []
   },
   "source": [
    "# Análise dos Resultados\n",
    "\n",
    "À esquerda, temos as métricas gerais dos modelos, e à direita temos a curva de precisão por revocação.\n",
    "\n",
    "Primeiramente, é notável que o Random Forest superou o Naive Bayes tanto em acurácia geral quanto em precisão, tendo um resultado especialmente mais alto em precisão. A única métrica em que ele foi inferior foi a revocação, e mesmo nela a diferença não foi de menos de 5%.\n",
    "\n",
    "É importante ressaltar que sabemos que existe um tradeoff entre precisão e recall e, para este problema específico, é interessante que a precisão seja mais relevante que o recall:\n",
    "\n",
    "* Quanto maior a precisão, menor o número de falsos positivos, ou seja, mensagens de interesse (hams) sendo classificadas como spams.\n",
    "* Quanto maior o recall, menor o número de falsos negativos, ou seja, spams sendo classificados como mensagens de interesse (hams).\n",
    "* Uma maior precisão geralmente vem sob o custo de um menor recall e vice versa.\n",
    "\n",
    "Para um usuário, o risco que um baixo recall oferece, que é o de que alguns spams ainda apareçam na caixa de mensagens, é muito menor que o risco que uma baixa precisão oferece, que é o de uma mensagem importante ser detectada como spam e descartada.\n",
    "\n",
    "Nesse quesito, o Random Forest é superior ao Naive Bayes, que possui maior recall que precisão.\n",
    "\n",
    "Observemos agora as curvas à direita. Elas representam o tradeoff da precisão pela revocação de cada modelo em diferentes thresholds. Desse modo, uma maior área debaixo da curva indica ambos precisão e recall altos relativamente no modelo. Observe como a curva do Random Forest se encontra completamente acima da curva do Naive Bayes, ficando abaixo apenas em alguns pontos mais à direita de extrema priorização do recall em relação à revocação. Isso demonstra que, na esmagadora maioria dos thresholds, o tradeoff de precisão por revocação do Random Forest é menor que o do Naive Bayes, indicando maiores valores para ambos no Random Forest mesmo considerando as classes desbalanceadas.\n",
    "\n",
    "Com isso, é evidente que o Random Forest possui um desempenho geral superior ao Naive Bayes na classificação de hams e spams em mensagens de SMS. "
   ]
  }
 ],
 "metadata": {
  "kernelspec": {
   "display_name": "Python 3",
   "language": "python",
   "name": "python3"
  },
  "language_info": {
   "codemirror_mode": {
    "name": "ipython",
    "version": 3
   },
   "file_extension": ".py",
   "mimetype": "text/x-python",
   "name": "python",
   "nbconvert_exporter": "python",
   "pygments_lexer": "ipython3",
   "version": "3.7.10"
  },
  "papermill": {
   "default_parameters": {},
   "duration": 27.587116,
   "end_time": "2023-07-01T22:24:13.967637",
   "environment_variables": {},
   "exception": null,
   "input_path": "__notebook__.ipynb",
   "output_path": "__notebook__.ipynb",
   "parameters": {},
   "start_time": "2023-07-01T22:23:46.380521",
   "version": "2.3.3"
  }
 },
 "nbformat": 4,
 "nbformat_minor": 5
}
