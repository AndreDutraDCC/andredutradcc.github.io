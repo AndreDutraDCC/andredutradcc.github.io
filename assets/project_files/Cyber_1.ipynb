{
 "cells": [
  {
   "cell_type": "markdown",
   "id": "084eb5ca",
   "metadata": {
    "papermill": {
     "duration": 0.036844,
     "end_time": "2023-07-01T22:24:00.152720",
     "exception": false,
     "start_time": "2023-07-01T22:24:00.115876",
     "status": "completed"
    },
    "tags": []
   },
   "source": [
    "# DeLIForest: Um detector de SPAMs via aprendizado supervisionado que supera abordagens precedentes\n",
    "\n",
    "### Nome: André Luiz Moreira Dutra\n",
    "### Matrícula: 2019006345"
   ]
  },
  {
   "cell_type": "markdown",
   "id": "d80077b9",
   "metadata": {},
   "source": [
    "O problema da detecção de lixo eletrônico, os chamados \"SPAMs\", em caixas de entrada de serviços de mensagem, como emails e SMS, é de suma relevância no contexto de cibersegurança. Além de ocuparem o armazenamento dos serviços e obstruírem mensagens consideradas relevantes pelos usuários, as chamadas \"HAMs\", os SPAMs frequentemente carregam potenciais vulnerabilidades ao usuário na forma de links maliciosos e tentativas de golpes, sendo classificados no contexto de cibersegurança como vulnerabilidades de engenharia social. Neste contexto, diferentes trabalhos propuseram modelos de detectores de SPAM, em especial baseados em classificadores utilizando Aprendizado de Máquina supervisionado. Dentre eles, se destaca como um estudo de interesse um [modelo proposto por Ricardo Tombessi](https://www.kaggle.com/code/cdsegufmg/classificacao-spam), que propõe uma solução utilizando embeddings do tipo bag-of-words (CountVectorizer) e um modelo Naive Bayes Multimodal com acurácia superior a 90%. Desse modo, este trabalho propõe o DeLIForest, o Detector de Lixo eletrônico Indesejado baseado em Random Forest, que consiste em um classificador de SPAMs e HAMs também baseado em embeddings bag-of-words, porém utilizando uma base maior e um modelo de Random Forest otimizado, resultando em um modelo que supera a solução proposta em desempenho."
   ]
  },
  {
   "cell_type": "markdown",
   "id": "79d2c65c",
   "metadata": {},
   "source": [
    "## A Base ExAIS_SPAM\n",
    "A base do modelo original é a SMS Spam Collection Dataset, uma base contendo mais de 5.000 mensagens de texto em inglês classificadas como HAM ou SPAM, advindas de múltiplas fontes. A base está disponível em:\n",
    "\n",
    "> https://www.kaggle.com/datasets/uciml/sms-spam-collection-dataset\n",
    "\n",
    "A partir disso, primeiramente vamos aumentar a nossa base de hams e spams e com isso permitir uma melhor classificação dos resultados. Para isso, à base original vamos adicionar dados da base ExAIS de mensagens de SMS, disponíveis em:\n",
    "\n",
    "> https://github.com/AbayomiAlli/SMS-Spam-Dataset\n",
    "\n",
    "A base contém mensagens enviadas e recebidas por 20 usuários, classificadas como ham ou spam, dentre outras informações.\n",
    "\n",
    "O tratamento da base foi feito da seguinte forma:\n",
    "1. Primeiro, os dados de todos os usuários foram unidos.\n",
    "2. Em seguida, os dados das mensagens e da classificação em ham e spam foram selecionados, e os demais descartados.\n",
    "3. Por fim, mensagens enviadas e classificadas como spam foram eliminadas dos dados.\n",
    "   1. Isso foi feito pois elas correspondiam a respostas dos usuários a números de spam como \"CANCEL\", \"STOP\".\n",
    "   2. Sendo assim, elas não correspondiam ao padrão de mensagens de spam que queremos detectar."
   ]
  },
  {
   "cell_type": "code",
   "execution_count": 19,
   "id": "8a7f9c00",
   "metadata": {
    "execution": {
     "iopub.execute_input": "2023-07-01T22:24:00.308493Z",
     "iopub.status.busy": "2023-07-01T22:24:00.307582Z",
     "iopub.status.idle": "2023-07-01T22:24:00.346052Z",
     "shell.execute_reply": "2023-07-01T22:24:00.346747Z",
     "shell.execute_reply.started": "2023-07-01T22:20:22.136479Z"
    },
    "papermill": {
     "duration": 0.082017,
     "end_time": "2023-07-01T22:24:00.346990",
     "exception": false,
     "start_time": "2023-07-01T22:24:00.264973",
     "status": "completed"
    },
    "tags": []
   },
   "outputs": [
    {
     "data": {
      "text/html": [
       "<div>\n",
       "<style scoped>\n",
       "    .dataframe tbody tr th:only-of-type {\n",
       "        vertical-align: middle;\n",
       "    }\n",
       "\n",
       "    .dataframe tbody tr th {\n",
       "        vertical-align: top;\n",
       "    }\n",
       "\n",
       "    .dataframe thead th {\n",
       "        text-align: right;\n",
       "    }\n",
       "</style>\n",
       "<table border=\"1\" class=\"dataframe\">\n",
       "  <thead>\n",
       "    <tr style=\"text-align: right;\">\n",
       "      <th></th>\n",
       "      <th>label</th>\n",
       "      <th>message</th>\n",
       "    </tr>\n",
       "  </thead>\n",
       "  <tbody>\n",
       "    <tr>\n",
       "      <th>3546</th>\n",
       "      <td>spam</td>\n",
       "      <td>If you cannot find the brighter side of life p...</td>\n",
       "    </tr>\n",
       "    <tr>\n",
       "      <th>2225</th>\n",
       "      <td>spam</td>\n",
       "      <td>Dear Valued Customer, Welcome to Airtel! The N...</td>\n",
       "    </tr>\n",
       "    <tr>\n",
       "      <th>135</th>\n",
       "      <td>ham</td>\n",
       "      <td>70XXXXX653</td>\n",
       "    </tr>\n",
       "    <tr>\n",
       "      <th>4925</th>\n",
       "      <td>spam</td>\n",
       "      <td>Please call Buy GOtv Decoder + 1 Month GOtv Pl...</td>\n",
       "    </tr>\n",
       "    <tr>\n",
       "      <th>730</th>\n",
       "      <td>ham</td>\n",
       "      <td>TANKX 4 being a calumniator and besmirchous nd...</td>\n",
       "    </tr>\n",
       "  </tbody>\n",
       "</table>\n",
       "</div>"
      ],
      "text/plain": [
       "     label                                            message\n",
       "3546  spam  If you cannot find the brighter side of life p...\n",
       "2225  spam  Dear Valued Customer, Welcome to Airtel! The N...\n",
       "135    ham                                         70XXXXX653\n",
       "4925  spam  Please call Buy GOtv Decoder + 1 Month GOtv Pl...\n",
       "730    ham  TANKX 4 being a calumniator and besmirchous nd..."
      ]
     },
     "execution_count": 19,
     "metadata": {},
     "output_type": "execute_result"
    }
   ],
   "source": [
    "sms_exais = pd.read_csv(\"/kaggle/input/exais-sms-spam-dataset/ExAIS_SMS.csv\")\n",
    "sms_exais.sample(5)"
   ]
  },
  {
   "cell_type": "markdown",
   "id": "1ba38154",
   "metadata": {
    "papermill": {
     "duration": 0.038198,
     "end_time": "2023-07-01T22:24:00.424830",
     "exception": false,
     "start_time": "2023-07-01T22:24:00.386632",
     "status": "completed"
    },
    "tags": []
   },
   "source": [
    "## A Nova Base\n",
    "\n",
    "Vamos agora unir a base ExAIS à já utilizada e formar uma nova base mais robusta e com menor diferença entre hams e spams:"
   ]
  },
  {
   "cell_type": "code",
   "execution_count": 20,
   "id": "a4f762fe",
   "metadata": {
    "execution": {
     "iopub.execute_input": "2023-07-01T22:24:00.504939Z",
     "iopub.status.busy": "2023-07-01T22:24:00.504123Z",
     "iopub.status.idle": "2023-07-01T22:24:00.537731Z",
     "shell.execute_reply": "2023-07-01T22:24:00.538353Z",
     "shell.execute_reply.started": "2023-07-01T22:20:22.170479Z"
    },
    "papermill": {
     "duration": 0.075492,
     "end_time": "2023-07-01T22:24:00.538557",
     "exception": false,
     "start_time": "2023-07-01T22:24:00.463065",
     "status": "completed"
    },
    "tags": []
   },
   "outputs": [
    {
     "data": {
      "text/html": [
       "<div>\n",
       "<style scoped>\n",
       "    .dataframe tbody tr th:only-of-type {\n",
       "        vertical-align: middle;\n",
       "    }\n",
       "\n",
       "    .dataframe tbody tr th {\n",
       "        vertical-align: top;\n",
       "    }\n",
       "\n",
       "    .dataframe thead th {\n",
       "        text-align: right;\n",
       "    }\n",
       "</style>\n",
       "<table border=\"1\" class=\"dataframe\">\n",
       "  <thead>\n",
       "    <tr style=\"text-align: right;\">\n",
       "      <th></th>\n",
       "      <th>label</th>\n",
       "      <th>message</th>\n",
       "    </tr>\n",
       "  </thead>\n",
       "  <tbody>\n",
       "    <tr>\n",
       "      <th>2978</th>\n",
       "      <td>1</td>\n",
       "      <td>Xmas Offer! Latest Motorola, SonyEricsson &amp; No...</td>\n",
       "    </tr>\n",
       "    <tr>\n",
       "      <th>1535</th>\n",
       "      <td>1</td>\n",
       "      <td>You have won a Nokia 7250i. This is what you g...</td>\n",
       "    </tr>\n",
       "    <tr>\n",
       "      <th>1269</th>\n",
       "      <td>0</td>\n",
       "      <td>Tee hee. Off to lecture, cheery bye bye.</td>\n",
       "    </tr>\n",
       "    <tr>\n",
       "      <th>292</th>\n",
       "      <td>0</td>\n",
       "      <td>Oops. 4 got that bit.</td>\n",
       "    </tr>\n",
       "    <tr>\n",
       "      <th>2598</th>\n",
       "      <td>0</td>\n",
       "      <td>Pls reply</td>\n",
       "    </tr>\n",
       "  </tbody>\n",
       "</table>\n",
       "</div>"
      ],
      "text/plain": [
       "      label                                            message\n",
       "2978      1  Xmas Offer! Latest Motorola, SonyEricsson & No...\n",
       "1535      1  You have won a Nokia 7250i. This is what you g...\n",
       "1269      0           Tee hee. Off to lecture, cheery bye bye.\n",
       "292       0                              Oops. 4 got that bit.\n",
       "2598      0                                          Pls reply"
      ]
     },
     "execution_count": 20,
     "metadata": {},
     "output_type": "execute_result"
    }
   ],
   "source": [
    "sms_uci = pd.read_csv(\"/kaggle/input/sms-spam-collection-dataset/spam.csv\", encoding = \"ISO-8859-1\", usecols=[0,1], skiprows=1,\n",
    "                      names=[\"label\", \"message\"])\n",
    "\n",
    "sms = pd.concat([sms_exais, sms_uci])\n",
    "sms.label = sms.label.map({\"ham\":0, \"spam\":1})\n",
    "sms.sample(5)"
   ]
  },
  {
   "cell_type": "markdown",
   "id": "6fbac859",
   "metadata": {
    "papermill": {
     "duration": 0.039054,
     "end_time": "2023-07-01T22:24:00.616381",
     "exception": false,
     "start_time": "2023-07-01T22:24:00.577327",
     "status": "completed"
    },
    "tags": []
   },
   "source": [
    "Observe como os novos dados têm uma proporção ligeiramente maior de spams que antes:"
   ]
  },
  {
   "cell_type": "code",
   "execution_count": 21,
   "id": "d1f0f16d",
   "metadata": {
    "execution": {
     "iopub.execute_input": "2023-07-01T22:24:00.704738Z",
     "iopub.status.busy": "2023-07-01T22:24:00.703723Z",
     "iopub.status.idle": "2023-07-01T22:24:00.708188Z",
     "shell.execute_reply": "2023-07-01T22:24:00.707481Z",
     "shell.execute_reply.started": "2023-07-01T22:20:22.206304Z"
    },
    "papermill": {
     "duration": 0.053104,
     "end_time": "2023-07-01T22:24:00.708352",
     "exception": false,
     "start_time": "2023-07-01T22:24:00.655248",
     "status": "completed"
    },
    "tags": []
   },
   "outputs": [
    {
     "name": "stdout",
     "output_type": "stream",
     "text": [
      "Proporção antiga de spams: 13.41%\n",
      "Proporção nova de spams:   27.42%\n"
     ]
    }
   ],
   "source": [
    "old_hams, old_spams = sms_uci.label.value_counts()\n",
    "print('Proporção antiga de spams: {:.2f}%'.format(100*old_spams/(old_hams+old_spams)))\n",
    "\n",
    "hams, spams = sms.label.value_counts()\n",
    "print('Proporção nova de spams:   {:.2f}%'.format(100*spams/(hams+spams)))"
   ]
  },
  {
   "cell_type": "markdown",
   "id": "1daf9d33",
   "metadata": {
    "papermill": {
     "duration": 0.039624,
     "end_time": "2023-07-01T22:24:00.788099",
     "exception": false,
     "start_time": "2023-07-01T22:24:00.748475",
     "status": "completed"
    },
    "tags": []
   },
   "source": [
    "## Tratamento dos Dados\n",
    "Vamos agora separar os dados em treino e teste e vetorizar os textos das mensagens:"
   ]
  },
  {
   "cell_type": "code",
   "execution_count": 22,
   "id": "1fe5b1cb",
   "metadata": {
    "execution": {
     "iopub.execute_input": "2023-07-01T22:24:00.875139Z",
     "iopub.status.busy": "2023-07-01T22:24:00.868895Z",
     "iopub.status.idle": "2023-07-01T22:24:01.527426Z",
     "shell.execute_reply": "2023-07-01T22:24:01.528048Z",
     "shell.execute_reply.started": "2023-07-01T22:20:22.218934Z"
    },
    "papermill": {
     "duration": 0.700989,
     "end_time": "2023-07-01T22:24:01.528270",
     "exception": false,
     "start_time": "2023-07-01T22:24:00.827281",
     "status": "completed"
    },
    "tags": []
   },
   "outputs": [],
   "source": [
    "features_train, features_test, labels_train, labels_test = train_test_split(sms.message, sms.label, test_size=0.2, random_state = 52)\n",
    "couvec = CountVectorizer()\n",
    "couvec.fit(features_train)\n",
    "dtm_train = couvec.fit_transform(features_train)\n",
    "dtm_test = couvec.transform(features_test)"
   ]
  },
  {
   "cell_type": "markdown",
   "id": "8210ef5e",
   "metadata": {
    "papermill": {
     "duration": 0.040377,
     "end_time": "2023-07-01T22:24:01.607371",
     "exception": false,
     "start_time": "2023-07-01T22:24:01.566994",
     "status": "completed"
    },
    "tags": []
   },
   "source": [
    "## Treinamento e Teste dos Modelos\n",
    "A seguinte função encapsula o treino e o teste que será feito em cada modelo.\n",
    "\n",
    "Dado o modelo, os dados e treino e os dados de teste, ela:\n",
    "  1. Treina o modelo\n",
    "  2. Prediz os dados de teste\n",
    "  3. Retorna a acurácia, precisão, recall e os vetores de precisões e recalls dos resultados do teste em relação às labels verdadeiras \n"
   ]
  },
  {
   "cell_type": "code",
   "execution_count": 23,
   "id": "c43ea3fd",
   "metadata": {
    "execution": {
     "iopub.execute_input": "2023-07-01T22:24:01.697492Z",
     "iopub.status.busy": "2023-07-01T22:24:01.696348Z",
     "iopub.status.idle": "2023-07-01T22:24:01.699387Z",
     "shell.execute_reply": "2023-07-01T22:24:01.698640Z",
     "shell.execute_reply.started": "2023-07-01T22:20:22.879532Z"
    },
    "papermill": {
     "duration": 0.0517,
     "end_time": "2023-07-01T22:24:01.699558",
     "exception": false,
     "start_time": "2023-07-01T22:24:01.647858",
     "status": "completed"
    },
    "tags": []
   },
   "outputs": [],
   "source": [
    "def train_test_spam(model, vectors_train, labels_train, vectors_test, labels_test):\n",
    "    model.fit(vectors_train, labels_train)\n",
    "    labels_pred = model.predict(vectors_test)\n",
    "    \n",
    "    accuracy  = metrics.accuracy_score(labels_test, labels_pred)\n",
    "    precision = metrics.precision_score(labels_test, labels_pred)\n",
    "    recall    = metrics.recall_score(labels_test, labels_pred)\n",
    "    \n",
    "    labels_prob = model.predict_proba(vectors_test)[:, 1]\n",
    "    precisions_list, recalls_list, _ = metrics.precision_recall_curve(labels_test, labels_prob)\n",
    "    \n",
    "    return accuracy, precision, recall, precisions_list[:-1], recalls_list[:-1]"
   ]
  },
  {
   "cell_type": "markdown",
   "id": "c2f225dc",
   "metadata": {
    "papermill": {
     "duration": 0.039219,
     "end_time": "2023-07-01T22:24:01.778002",
     "exception": false,
     "start_time": "2023-07-01T22:24:01.738783",
     "status": "completed"
    },
    "tags": []
   },
   "source": [
    "## Proposição de Um Novo Modelo e Comparação\n",
    "\n",
    "Em seguida, vamos testar os modelos.\n",
    "* Propomos como um melhor modelo o Random Forest, pois:\n",
    "  * Sendo formado por árvores de decisão, ele se adapta bem a dados discretos, semelhante ao Naive Bayes.\n",
    "  * A feature selection interna feita pelo modelo o torna robusto a features correlacionadas, redundantes ou irrelevante.\n",
    "  * Isso é especialmente benéfico para os vetores esparsos utilizados nesta classificação\n",
    "* Ele será treinado e testado em comparação ao modelo anterior, o Naive Bayes Multimodal, para os mesmos parâmetros"
   ]
  },
  {
   "cell_type": "code",
   "execution_count": 24,
   "id": "242e1505",
   "metadata": {
    "execution": {
     "iopub.execute_input": "2023-07-01T22:24:01.862102Z",
     "iopub.status.busy": "2023-07-01T22:24:01.861323Z",
     "iopub.status.idle": "2023-07-01T22:24:12.464687Z",
     "shell.execute_reply": "2023-07-01T22:24:12.465321Z",
     "shell.execute_reply.started": "2023-07-01T22:20:22.889984Z"
    },
    "papermill": {
     "duration": 10.648778,
     "end_time": "2023-07-01T22:24:12.465546",
     "exception": false,
     "start_time": "2023-07-01T22:24:01.816768",
     "status": "completed"
    },
    "tags": []
   },
   "outputs": [],
   "source": [
    "from sklearn.naive_bayes import MultinomialNB\n",
    "from sklearn.ensemble import RandomForestClassifier\n",
    "\n",
    "model_names = ['Naive Bayes', 'Random Forest']\n",
    "\n",
    "models = [MultinomialNB(), RandomForestClassifier(random_state = 52)]\n",
    "\n",
    "results = [train_test_spam(model, dtm_train, labels_train, dtm_test, labels_test) for model in models]"
   ]
  },
  {
   "cell_type": "markdown",
   "id": "20055ff6",
   "metadata": {
    "papermill": {
     "duration": 0.039253,
     "end_time": "2023-07-01T22:24:12.544548",
     "exception": false,
     "start_time": "2023-07-01T22:24:12.505295",
     "status": "completed"
    },
    "tags": []
   },
   "source": [
    "## Plot dos Resultados\n",
    "\n",
    "Observe as métricas e as curvas de precisão x recall de cada modelo:"
   ]
  },
  {
   "cell_type": "code",
   "execution_count": 25,
   "id": "beeebac7",
   "metadata": {
    "execution": {
     "iopub.execute_input": "2023-07-01T22:24:12.628599Z",
     "iopub.status.busy": "2023-07-01T22:24:12.627797Z",
     "iopub.status.idle": "2023-07-01T22:24:13.133644Z",
     "shell.execute_reply": "2023-07-01T22:24:13.134268Z",
     "shell.execute_reply.started": "2023-07-01T22:20:33.429022Z"
    },
    "papermill": {
     "duration": 0.548746,
     "end_time": "2023-07-01T22:24:13.134481",
     "exception": false,
     "start_time": "2023-07-01T22:24:12.585735",
     "status": "completed"
    },
    "tags": []
   },
   "outputs": [
    {
     "data": {
      "image/png": "[encoded data removed]",
      "text/plain": [
       "<Figure size 1440x576 with 2 Axes>"
      ]
     },
     "metadata": {
      "needs_background": "light"
     },
     "output_type": "display_data"
    }
   ],
   "source": [
    "import matplotlib.pyplot as plt\n",
    "\n",
    "models_num = len(models)\n",
    "\n",
    "fig, axes = plt.subplots(1,2, figsize=(20,8))\n",
    "\n",
    "bars_ax, curves_ax = axes\n",
    "\n",
    "bar_width = 0.05\n",
    "label_dist = 1.6*models_num*bar_width\n",
    "bar_label_pos = np.arange(0, 3*label_dist, label_dist)\n",
    "\n",
    "for idx, model_name, (accuracy, precision, recall, precisions_list, recalls_list) in zip(range(models_num), model_names, results):\n",
    "    \n",
    "    x = [pos - 0.5*(models_num-1)*bar_width + idx*bar_width for pos in bar_label_pos]\n",
    "    y = [accuracy, precision, recall]\n",
    "    bars_ax.bar(x, y, width = bar_width, label=model_name)\n",
    "    \n",
    "    curves_ax.plot(precisions_list, recalls_list, label=model_name)\n",
    "\n",
    "bars_ax.set_xticks(bar_label_pos)\n",
    "bars_ax.set_xticklabels(['Acurácia', 'Precisão', 'Recall'])\n",
    "bars_ax.set_ylabel('Porcentagem(%)')\n",
    "bars_ax.set_yticks(np.arange(0, 1.1, 0.1))\n",
    "bars_ax.set_title('Métricas de Desempenho')\n",
    "bars_ax.legend()\n",
    "\n",
    "curves_ax.set_xlabel('Recalls')\n",
    "curves_ax.set_ylabel('Precisão')\n",
    "curves_ax.set_xticks(np.arange(0, 1.1, 0.1))\n",
    "curves_ax.set_yticks(np.arange(0, 1.1, 0.1))\n",
    "curves_ax.set_title('Curva Precisão-Recall')\n",
    "curves_ax.legend()\n",
    "\n",
    "fig.show()"
   ]
  },
  {
   "cell_type": "markdown",
   "id": "c9a88fab",
   "metadata": {
    "papermill": {
     "duration": 0.040985,
     "end_time": "2023-07-01T22:24:13.216526",
     "exception": false,
     "start_time": "2023-07-01T22:24:13.175541",
     "status": "completed"
    },
    "tags": []
   },
   "source": [
    "## Análise dos Resultados\n",
    "\n",
    "À esquerda, temos as métricas gerais dos modelos, e à direita temos a curva de precisão por revocação.\n",
    "\n",
    "Primeiramente, é notável que o Random Forest superou o Naive Bayes tanto em acurácia geral quanto em precisão, tendo um resultado especialmente mais alto em precisão. A única métrica em que ele foi inferior foi a revocação, e mesmo nela a diferença não foi de menos de 5%.\n",
    "\n",
    "É importante ressaltar que sabemos que existe um tradeoff entre precisão e recall e, para este problema específico, é interessante que a precisão seja mais relevante que o recall:\n",
    "\n",
    "* Quanto maior a precisão, menor o número de falsos positivos, ou seja, mensagens de interesse (hams) sendo classificadas como spams.\n",
    "* Quanto maior o recall, menor o número de falsos negativos, ou seja, spams sendo classificados como mensagens de interesse (hams).\n",
    "* Uma maior precisão geralmente vem sob o custo de um menor recall e vice versa.\n",
    "\n",
    "Para um usuário, o risco que um baixo recall oferece, que é o de que alguns spams ainda apareçam na caixa de mensagens, é muito menor que o risco que uma baixa precisão oferece, que é o de uma mensagem importante ser detectada como spam e descartada.\n",
    "\n",
    "Nesse quesito, o Random Forest é superior ao Naive Bayes, que possui maior recall que precisão.\n",
    "\n",
    "Observemos agora as curvas à direita. Elas representam o tradeoff da precisão pela revocação de cada modelo em diferentes thresholds. Desse modo, uma maior área debaixo da curva indica ambos precisão e recall altos relativamente no modelo. Observe como a curva do Random Forest se encontra completamente acima da curva do Naive Bayes, ficando abaixo apenas em alguns pontos mais à direita de extrema priorização do recall em relação à revocação. Isso demonstra que, na esmagadora maioria dos thresholds, o tradeoff de precisão por revocação do Random Forest é menor que o do Naive Bayes, indicando maiores valores para ambos no Random Forest mesmo considerando as classes desbalanceadas.\n",
    "\n",
    "Com isso, é evidente que o Random Forest possui um desempenho geral superior ao Naive Bayes na classificação de hams e spams em mensagens de SMS. "
   ]
  }
 ],
 "metadata": {
  "kernelspec": {
   "display_name": "Python 3",
   "language": "python",
   "name": "python3"
  },
  "language_info": {
   "codemirror_mode": {
    "name": "ipython",
    "version": 3
   },
   "file_extension": ".py",
   "mimetype": "text/x-python",
   "name": "python",
   "nbconvert_exporter": "python",
   "pygments_lexer": "ipython3",
   "version": "3.7.10"
  },
  "papermill": {
   "default_parameters": {},
   "duration": 27.587116,
   "end_time": "2023-07-01T22:24:13.967637",
   "environment_variables": {},
   "exception": null,
   "input_path": "__notebook__.ipynb",
   "output_path": "__notebook__.ipynb",
   "parameters": {},
   "start_time": "2023-07-01T22:23:46.380521",
   "version": "2.3.3"
  }
 },
 "nbformat": 4,
 "nbformat_minor": 5
}
